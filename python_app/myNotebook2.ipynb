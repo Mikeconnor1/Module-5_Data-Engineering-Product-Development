{
 "cells": [
  {
   "cell_type": "code",
   "execution_count": 13,
   "metadata": {},
   "outputs": [
    {
     "name": "stdout",
     "output_type": "stream",
     "text": [
      "   Customer ID     Customer Name\n",
      "0          1.0          Jane Doe\n",
      "1          2.0        John Smith\n",
      "2          3.0        Dan Reeves\n",
      "3          NaN               NaN\n",
      "4          5.0    William Holden\n",
      "5          6.0     Jaztyn Forest\n",
      "6          7.0     Jackie Irving\n",
      "7          8.0  Matthew Stirling\n",
      "8          9.0         Emory Ted\n",
      "\n",
      "=== Cleaned Data ===\n",
      "   Customer ID     Customer Name\n",
      "0          1.0          Jane Doe\n",
      "1          2.0        John Smith\n",
      "2          3.0        Dan Reeves\n",
      "3          5.0    William Holden\n",
      "4          6.0     Jaztyn Forest\n",
      "5          7.0     Jackie Irving\n",
      "6          8.0  Matthew Stirling\n",
      "7          9.0         Emory Ted\n",
      "Cleaned shape: (8, 2)\n",
      "Cleaned file saved as 'Cleaned_03_Library SystemCustomer.csv'\n"
     ]
    }
   ],
   "source": [
    "import pandas as pd\n",
    "\n",
    "# Load the CSV file\n",
    "df = pd.read_csv(\"03_Library SystemCustomers.csv\")\n",
    "\n",
    "print(df)\n",
    "\n",
    "#print(\"Original Shape:\"), df.shape\n",
    "\n",
    "df = df.drop_duplicates()\n",
    "\n",
    "df = df.dropna(how='all')\n",
    "\n",
    "df.reset_index(drop=True, inplace=True)\n",
    "\n",
    "print(\"\\n=== Cleaned Data ===\")\n",
    "print(df)\n",
    "print(\"Cleaned shape:\", df.shape)\n",
    "\n",
    "\n",
    "# Save to a new CSV\n",
    "df.to_csv(\"Cleaned_03_Library SystemCustomer.csv\", index=False)\n",
    "\n",
    "print(\"Cleaned file saved as 'Cleaned_03_Library SystemCustomer.csv'\")\n",
    "\n"
   ]
  }
 ],
 "metadata": {
  "kernelspec": {
   "display_name": "base",
   "language": "python",
   "name": "python3"
  },
  "language_info": {
   "codemirror_mode": {
    "name": "ipython",
    "version": 3
   },
   "file_extension": ".py",
   "mimetype": "text/x-python",
   "name": "python",
   "nbconvert_exporter": "python",
   "pygments_lexer": "ipython3",
   "version": "3.11.7"
  }
 },
 "nbformat": 4,
 "nbformat_minor": 2
}
