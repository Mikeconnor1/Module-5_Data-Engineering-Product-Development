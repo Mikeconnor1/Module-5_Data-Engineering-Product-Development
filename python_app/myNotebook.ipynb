{
 "cells": [
  {
   "cell_type": "code",
   "execution_count": 31,
   "metadata": {},
   "outputs": [
    {
     "name": "stdout",
     "output_type": "stream",
     "text": [
      "hello world\n"
     ]
    }
   ],
   "source": [
    "print ('hello world')\n"
   ]
  },
  {
   "cell_type": "code",
   "execution_count": 32,
   "metadata": {},
   "outputs": [
    {
     "name": "stdout",
     "output_type": "stream",
     "text": [
      "Original Shape:\n",
      "\n",
      "=== Cleaned Data ===\n",
      "      Id                                     Books Book checkout  \\\n",
      "0    1.0                       Catcher in the Rye     2023-02-20   \n",
      "1    2.0          Lord of the rings the two towers    2023-03-24   \n",
      "2    3.0  Lord of the rings the return of the kind    2023-03-29   \n",
      "3    4.0                                The hobbit    2023-04-02   \n",
      "4    5.0                                     Dune     2023-04-02   \n",
      "5    6.0                              Little Women    2023-04-02   \n",
      "6    7.0                                        IT    2063-04-10   \n",
      "7    8.0                                   Misery     2023-04-15   \n",
      "8    9.0                                  Catch 22    2023-04-15   \n",
      "9   10.0                              Animal Farm     2023-04-20   \n",
      "10  11.0                                      1984    2023-04-23   \n",
      "11  12.0                              Little Women    2023-04-02   \n",
      "12  13.0                              East of Eden    2023-04-30   \n",
      "13  14.0                   America Is in the Heart    2023-05-01   \n",
      "14  15.0                         Wuthering Heights    2023-05-01   \n",
      "15  16.0                                Dark Tales    2023-05-15   \n",
      "16  17.0                        The Bloody Chamber           NaT   \n",
      "17  18.0                            Les Miserables    2023-06-03   \n",
      "18  19.0                                   Dracula    2023-06-10   \n",
      "19  20.0                              Frankenstein    2023-06-01   \n",
      "20  21.0                                       NaN    2023-06-01   \n",
      "\n",
      "   Book Returned Days allowed to borrow  Customer ID  \n",
      "0     25/02/2023                2 weeks          1.0  \n",
      "1     21/03/2023                2 weeks          2.0  \n",
      "2     25/03/2023                2 weeks          3.0  \n",
      "3     25/03/2023                2 weeks          4.0  \n",
      "4     25/03/2023                2 weeks          5.0  \n",
      "5     01/05/2023                2 weeks          1.0  \n",
      "6     03/04/2023                2 weeks          6.0  \n",
      "7     03/04/2023                2 weeks          7.0  \n",
      "8     16/04/2023                2 weeks          7.0  \n",
      "9     24/04/2023                2 weeks          2.0  \n",
      "10    27/04/2023                2 weeks          8.0  \n",
      "11    01/05/2023                2 weeks          1.0  \n",
      "12    05/05/2023                2 weeks          2.0  \n",
      "13    07/05/2023                2 weeks          3.0  \n",
      "14    10/05/2023                2 weeks          9.0  \n",
      "15    01/06/2023                2 weeks          2.0  \n",
      "16    04/06/2023                2 weeks          3.0  \n",
      "17    07/06/2023                2 weeks          5.0  \n",
      "18    10/07/2023                2 weeks         10.0  \n",
      "19    20/06/2023                2 weeks          2.0  \n",
      "20    05/06/2023                2 weeks          NaN  \n",
      "\n",
      "Final shape: (21, 6)\n",
      "Cleaned file saved as 'Cleaned_03_Library SystemBook.csv'\n"
     ]
    },
    {
     "name": "stderr",
     "output_type": "stream",
     "text": [
      "C:\\Users\\Admin\\AppData\\Local\\Temp\\ipykernel_13732\\1006610216.py:10: UserWarning: Parsing dates in %d/%m/%Y format when dayfirst=False (the default) was specified. Pass `dayfirst=True` or specify a format to silence this warning.\n",
      "  df['Book checkout'] = pd.to_datetime(df['Book checkout'].str.replace('\"',''), errors='coerce')\n"
     ]
    }
   ],
   "source": [
    "import pandas as pd\n",
    "\n",
    "# Load the CSV file\n",
    "df = pd.read_csv(\"03_Library Systembook.csv\")\n",
    "\n",
    "print(\"Original Shape:\"), df.shape\n",
    "\n",
    "df = df.dropna(how='all')\n",
    "\n",
    "df['Book checkout'] = pd.to_datetime(df['Book checkout'].str.replace('\"',''), errors='coerce')\n",
    "\n",
    "df = df.drop_duplicates()\n",
    "\n",
    "df.reset_index(drop=True, inplace = True)\n",
    "\n",
    "print(\"\\n=== Cleaned Data ===\")\n",
    "print(df)\n",
    "\n",
    "print(\"\\nFinal shape:\", df.shape)\n",
    "\n",
    "#remove blank rows\n",
    "#df.head\n",
    "#str.replace\n",
    "\n",
    "# Save to a new CSV\n",
    "df.to_csv(\"Cleaned_03_Library SystemBook.csv\", index=False)\n",
    "\n",
    "print(\"Cleaned file saved as 'Cleaned_03_Library SystemBook.csv'\")\n",
    "\n",
    "\n"
   ]
  }
 ],
 "metadata": {
  "kernelspec": {
   "display_name": "base",
   "language": "python",
   "name": "python3"
  },
  "language_info": {
   "codemirror_mode": {
    "name": "ipython",
    "version": 3
   },
   "file_extension": ".py",
   "mimetype": "text/x-python",
   "name": "python",
   "nbconvert_exporter": "python",
   "pygments_lexer": "ipython3",
   "version": "3.11.7"
  }
 },
 "nbformat": 4,
 "nbformat_minor": 2
}
